{
 "cells": [
  {
   "cell_type": "markdown",
   "id": "ce389dc9",
   "metadata": {},
   "source": [
    "# 🔬 SciPy Basics for Scientific Computing & ML"
   ]
  },
  {
   "cell_type": "markdown",
   "id": "137b6758",
   "metadata": {},
   "source": [
    "\n",
    "**SciPy** (Scientific Python) is a powerful Python library built on top of **NumPy**.  \n",
    "It provides additional functionality for **scientific computing**, including:\n",
    "- Optimization\n",
    "- Linear algebra\n",
    "- Integration\n",
    "- Statistics\n",
    "- Signal processing\n"
   ]
  },
  {
   "cell_type": "code",
   "execution_count": 32,
   "id": "fc3bde5d",
   "metadata": {},
   "outputs": [],
   "source": [
    "import numpy as np\n",
    "from scipy import stats, integrate, optimize, linalg"
   ]
  },
  {
   "cell_type": "markdown",
   "id": "d2554e8f",
   "metadata": {},
   "source": [
    "## 📊 1. Statistics using `scipy.stats`\n",
    "### Used for performing statistical operations like mean, mode, std deviation, etc."
   ]
  },
  {
   "cell_type": "code",
   "execution_count": 33,
   "id": "3c2d9604",
   "metadata": {},
   "outputs": [
    {
     "name": "stdout",
     "output_type": "stream",
     "text": [
      "Mean: 34.285714285714285\n",
      "Median: 40.0\n",
      "Mode: ModeResult(mode=np.int64(50), count=np.int64(3))\n",
      "Standard Deviation: 17.18249385968449\n"
     ]
    }
   ],
   "source": [
    "\n",
    "data = [10, 20, 20, 40, 50, 50, 50]\n",
    "print(\"Mean:\", stats.tmean(data))\n",
    "print(\"Median:\", np.median(data))\n",
    "print(\"Mode:\", stats.mode(data, keepdims=False))\n",
    "print(\"Standard Deviation:\", stats.tstd(data))\n"
   ]
  },
  {
   "cell_type": "markdown",
   "id": "9e5ac647",
   "metadata": {},
   "source": [
    "## ∫ 2. Integration using `scipy.integrate`\n",
    "### Used to compute integrals of functions or data points."
   ]
  },
  {
   "cell_type": "code",
   "execution_count": 34,
   "id": "edae09a5",
   "metadata": {},
   "outputs": [
    {
     "name": "stdout",
     "output_type": "stream",
     "text": [
      "Integral of x^2 from 0 to 2: 2.666666666666667\n"
     ]
    }
   ],
   "source": [
    "\n",
    "# Integrate x^2 from 0 to 2\n",
    "result, error = integrate.quad(lambda x: x**2, 0, 2)\n",
    "print(\"Integral of x^2 from 0 to 2:\", result)\n"
   ]
  },
  {
   "cell_type": "markdown",
   "id": "e81d5ebe",
   "metadata": {},
   "source": [
    "## 🎯 3. Optimization using `scipy.optimize`\n",
    "### Used to find the minimum or maximum of functions, solve equations, etc."
   ]
  },
  {
   "cell_type": "code",
   "execution_count": 35,
   "id": "50b47ae6",
   "metadata": {},
   "outputs": [
    {
     "name": "stdout",
     "output_type": "stream",
     "text": [
      "Minimum at x = [-1.11051052]\n"
     ]
    }
   ],
   "source": [
    "\n",
    "# Minimize the function: f(x) = x^2 + 5sin(x)\n",
    "result = optimize.minimize(lambda x: x**2 + 5*np.sin(x), x0=0)\n",
    "print(\"Minimum at x =\", result.x)\n"
   ]
  },
  {
   "cell_type": "markdown",
   "id": "460bab30",
   "metadata": {},
   "source": [
    "## 📐 4. Linear Algebra using `scipy.linalg`\n",
    "### Used for solving equations, finding inverse, determinant, etc."
   ]
  },
  {
   "cell_type": "code",
   "execution_count": 36,
   "id": "c679c71a",
   "metadata": {},
   "outputs": [
    {
     "name": "stdout",
     "output_type": "stream",
     "text": [
      "Solution of Ax = b: [-4.   4.5]\n",
      "Inverse of A:\n",
      " [[-2.   1. ]\n",
      " [ 1.5 -0.5]]\n",
      "Determinant of A: -2.0\n"
     ]
    }
   ],
   "source": [
    "\n",
    "A = np.array([[1, 2], [3, 4]])\n",
    "b = np.array([5, 6])\n",
    "\n",
    "# Solve Ax = b\n",
    "x = linalg.solve(A, b)\n",
    "print(\"Solution of Ax = b:\", x)\n",
    "\n",
    "# Inverse and determinant\n",
    "print(\"Inverse of A:\\n\", linalg.inv(A))\n",
    "print(\"Determinant of A:\", linalg.det(A))\n"
   ]
  },
  {
   "cell_type": "markdown",
   "id": "e63980cf",
   "metadata": {},
   "source": [
    "## 🌊 5. Fourier Transform (Bonus: `scipy.fft`)\n",
    "### Used for signal processing, transforms signals from time domain to frequency domain."
   ]
  },
  {
   "cell_type": "code",
   "execution_count": 37,
   "id": "79eef1f5",
   "metadata": {},
   "outputs": [
    {
     "name": "stdout",
     "output_type": "stream",
     "text": [
      "FFT of signal:\n",
      " [8.-0.j 0.+0.j 0.-4.j 0.+0.j 0.-0.j 0.-0.j 0.+4.j 0.-0.j]\n"
     ]
    }
   ],
   "source": [
    "\n",
    "from scipy.fft import fft\n",
    "\n",
    "signal = np.array([1, 2, 1, 0, 1, 2, 1, 0])\n",
    "transformed = fft(signal)\n",
    "print(\"FFT of signal:\\n\", transformed)\n"
   ]
  }
 ],
 "metadata": {
  "kernelspec": {
   "display_name": ".venv",
   "language": "python",
   "name": "python3"
  },
  "language_info": {
   "codemirror_mode": {
    "name": "ipython",
    "version": 3
   },
   "file_extension": ".py",
   "mimetype": "text/x-python",
   "name": "python",
   "nbconvert_exporter": "python",
   "pygments_lexer": "ipython3",
   "version": "3.13.5"
  }
 },
 "nbformat": 4,
 "nbformat_minor": 5
}
