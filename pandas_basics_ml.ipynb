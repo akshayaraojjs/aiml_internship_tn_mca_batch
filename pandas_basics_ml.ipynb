{
 "cells": [
  {
   "cell_type": "markdown",
   "id": "f8101c37",
   "metadata": {},
   "source": [
    "# 🐼 Pandas Basics for Data Analysis & ML"
   ]
  },
  {
   "cell_type": "markdown",
   "id": "83c723b6",
   "metadata": {},
   "source": [
    "\n",
    "**Pandas** is a powerful Python library used for data analysis, data cleaning, and data manipulation.\n",
    "It is especially useful in **Machine Learning** for handling structured data.\n"
   ]
  },
  {
   "cell_type": "code",
   "execution_count": 75,
   "id": "87ab8c23",
   "metadata": {},
   "outputs": [],
   "source": [
    "import pandas as pd"
   ]
  },
  {
   "cell_type": "markdown",
   "id": "c36e1236",
   "metadata": {},
   "source": [
    "## 📌 1. Creating a Series"
   ]
  },
  {
   "cell_type": "code",
   "execution_count": 76,
   "id": "8045d51b",
   "metadata": {},
   "outputs": [
    {
     "name": "stdout",
     "output_type": "stream",
     "text": [
      "First Name    Akshay\n",
      "Last Name        Rao\n",
      "Age               24\n",
      "Company       ParvaM\n",
      "dtype: object\n"
     ]
    }
   ],
   "source": [
    "\n",
    "data = [10, 20, 30, 40]\n",
    "series = pd.Series(data, index=['a', 'b', 'c', 'd'])\n",
    "person = [\"Akshay\", \"Rao\", 24, \"ParvaM\"]\n",
    "series = pd.Series(person, index = ['First Name', 'Last Name', 'Age', 'Company'])\n",
    "print(series)\n"
   ]
  },
  {
   "cell_type": "markdown",
   "id": "0567eb0a",
   "metadata": {},
   "source": [
    "## 📦 2. Creating a DataFrame"
   ]
  },
  {
   "cell_type": "code",
   "execution_count": 77,
   "id": "5c3f2ab6",
   "metadata": {},
   "outputs": [
    {
     "name": "stdout",
     "output_type": "stream",
     "text": [
      "      Name  Age         City\n",
      "0    Alice   25     New York\n",
      "1      Bob   30  Los Angeles\n",
      "2  Charlie   35      Chicago\n"
     ]
    }
   ],
   "source": [
    "\n",
    "data = {\n",
    "    'Name': ['Alice', 'Bob', 'Charlie'],\n",
    "    'Age': [25, 30, 35],\n",
    "    'City': ['New York', 'Los Angeles', 'Chicago']\n",
    "}\n",
    "df = pd.DataFrame(data)\n",
    "print(df)\n"
   ]
  },
  {
   "cell_type": "markdown",
   "id": "f18f885a",
   "metadata": {},
   "source": [
    "## 🔍 3. Inspecting Data"
   ]
  },
  {
   "cell_type": "code",
   "execution_count": 78,
   "id": "22039959",
   "metadata": {},
   "outputs": [
    {
     "name": "stdout",
     "output_type": "stream",
     "text": [
      "Head:\n",
      "       Name  Age         City\n",
      "0    Alice   25     New York\n",
      "1      Bob   30  Los Angeles\n",
      "2  Charlie   35      Chicago\n",
      "Info:\n",
      "\n",
      "<class 'pandas.core.frame.DataFrame'>\n",
      "RangeIndex: 3 entries, 0 to 2\n",
      "Data columns (total 3 columns):\n",
      " #   Column  Non-Null Count  Dtype \n",
      "---  ------  --------------  ----- \n",
      " 0   Name    3 non-null      object\n",
      " 1   Age     3 non-null      int64 \n",
      " 2   City    3 non-null      object\n",
      "dtypes: int64(1), object(2)\n",
      "memory usage: 204.0+ bytes\n",
      "Describe:\n",
      "         Age\n",
      "count   3.0\n",
      "mean   30.0\n",
      "std     5.0\n",
      "min    25.0\n",
      "25%    27.5\n",
      "50%    30.0\n",
      "75%    32.5\n",
      "max    35.0\n"
     ]
    }
   ],
   "source": [
    "\n",
    "print(\"Head:\\n\", df.head())\n",
    "print(\"Info:\\n\")\n",
    "df.info()\n",
    "print(\"Describe:\\n\", df.describe())\n"
   ]
  },
  {
   "cell_type": "markdown",
   "id": "e5582a77",
   "metadata": {},
   "source": [
    "## 🎯 4. Selecting Data (Rows / Columns)"
   ]
  },
  {
   "cell_type": "code",
   "execution_count": 79,
   "id": "88293ef2",
   "metadata": {},
   "outputs": [
    {
     "name": "stdout",
     "output_type": "stream",
     "text": [
      "Single column:\n",
      " 0       New York\n",
      "1    Los Angeles\n",
      "2        Chicago\n",
      "Name: City, dtype: object\n",
      "Multiple columns:\n",
      "       Name         City\n",
      "0    Alice     New York\n",
      "1      Bob  Los Angeles\n",
      "2  Charlie      Chicago\n",
      "Row by index:\n",
      " Name    Charlie\n",
      "Age          35\n",
      "City    Chicago\n",
      "Name: 2, dtype: object\n"
     ]
    }
   ],
   "source": [
    "print(\"Single column:\\n\", df['City'])\n",
    "print(\"Multiple columns:\\n\", df[['Name', 'City']])\n",
    "print(\"Row by index:\\n\", df.iloc[2])\n"
   ]
  },
  {
   "cell_type": "markdown",
   "id": "9c69c765",
   "metadata": {},
   "source": [
    "## 🔍 5. Filtering Rows"
   ]
  },
  {
   "cell_type": "code",
   "execution_count": 80,
   "id": "fd3d6d42",
   "metadata": {},
   "outputs": [
    {
     "name": "stdout",
     "output_type": "stream",
     "text": [
      "      Name  Age         City\n",
      "1      Bob   30  Los Angeles\n",
      "2  Charlie   35      Chicago\n"
     ]
    }
   ],
   "source": [
    "\n",
    "# Filter rows where Age > 28\n",
    "print(df[df['Age'] > 28])\n"
   ]
  },
  {
   "cell_type": "markdown",
   "id": "1140d543",
   "metadata": {},
   "source": [
    "## ➕➖ 6. Adding / Removing Columns"
   ]
  },
  {
   "cell_type": "code",
   "execution_count": 81,
   "id": "eb9c5112",
   "metadata": {},
   "outputs": [
    {
     "name": "stdout",
     "output_type": "stream",
     "text": [
      "With Salary:\n",
      "       Name  Age         City  Salary\n",
      "0    Alice   25     New York   50000\n",
      "1      Bob   30  Los Angeles   60000\n",
      "2  Charlie   35      Chicago   70000\n",
      "Without City:\n",
      "       Name  Age  Salary\n",
      "0    Alice   25   50000\n",
      "1      Bob   30   60000\n",
      "2  Charlie   35   70000\n"
     ]
    }
   ],
   "source": [
    "\n",
    "df['Salary'] = [50000, 60000, 70000]  # Add new column\n",
    "print(\"With Salary:\\n\", df)\n",
    "\n",
    "df = df.drop('City', axis=1)          # Remove column\n",
    "print(\"Without City:\\n\", df)\n"
   ]
  },
  {
   "cell_type": "markdown",
   "id": "80c9273b",
   "metadata": {},
   "source": [
    "## ❓ 7. Handling Missing Data"
   ]
  },
  {
   "cell_type": "code",
   "execution_count": 82,
   "id": "f8ca1981",
   "metadata": {},
   "outputs": [
    {
     "name": "stdout",
     "output_type": "stream",
     "text": [
      "Original:\n",
      "      A    B  C\n",
      "0  1.0  4.0  5\n",
      "1  2.0  NaN  3\n",
      "2  NaN  6.0  4\n",
      "Fill NA:\n",
      "      A    B  C\n",
      "0  1.0  4.0  5\n",
      "1  2.0  0.0  3\n",
      "2  0.0  6.0  4\n",
      "Drop NA:\n",
      "      A    B  C\n",
      "0  1.0  4.0  5\n"
     ]
    }
   ],
   "source": [
    "\n",
    "df2 = pd.DataFrame({\n",
    "    'A': [1, 2, None],\n",
    "    'B': [4, None, 6],\n",
    "    'C': [5, 3, 4]\n",
    "})\n",
    "print(\"Original:\\n\", df2)\n",
    "print(\"Fill NA:\\n\", df2.fillna(0))\n",
    "print(\"Drop NA:\\n\", df2.dropna())"
   ]
  },
  {
   "cell_type": "markdown",
   "id": "72712c75",
   "metadata": {},
   "source": [
    "## 📁 8. Reading Data from CSV"
   ]
  },
  {
   "cell_type": "code",
   "execution_count": 83,
   "id": "ff185edc",
   "metadata": {},
   "outputs": [
    {
     "name": "stdout",
     "output_type": "stream",
     "text": [
      "Use pd.read_csv('filename.csv') to read a dataset.\n"
     ]
    }
   ],
   "source": [
    "\n",
    "# Sample read (CSV should be in same directory)\n",
    "# df_csv = pd.read_csv('data.csv')\n",
    "# print(df_csv.head())\n",
    "print(\"Use pd.read_csv('filename.csv') to read a dataset.\")\n"
   ]
  },
  {
   "cell_type": "markdown",
   "id": "d7a49cd7",
   "metadata": {},
   "source": [
    "## 📊 9. Grouping and Aggregation"
   ]
  },
  {
   "cell_type": "code",
   "execution_count": 84,
   "id": "85da3123",
   "metadata": {},
   "outputs": [
    {
     "name": "stdout",
     "output_type": "stream",
     "text": [
      "Department\n",
      "HR    51000.0\n",
      "IT    65000.0\n",
      "Name: Salary, dtype: float64\n"
     ]
    }
   ],
   "source": [
    "\n",
    "df = pd.DataFrame({\n",
    "    'Department': ['IT', 'HR', 'IT', 'HR'],\n",
    "    'Salary': [60000, 50000, 70000, 52000]\n",
    "})\n",
    "print(df.groupby('Department')['Salary'].mean())\n"
   ]
  }
 ],
 "metadata": {
  "kernelspec": {
   "display_name": "Python 3",
   "language": "python",
   "name": "python3"
  },
  "language_info": {
   "codemirror_mode": {
    "name": "ipython",
    "version": 3
   },
   "file_extension": ".py",
   "mimetype": "text/x-python",
   "name": "python",
   "nbconvert_exporter": "python",
   "pygments_lexer": "ipython3",
   "version": "3.12.4"
  }
 },
 "nbformat": 4,
 "nbformat_minor": 5
}
