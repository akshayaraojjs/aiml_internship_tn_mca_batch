{
 "cells": [
  {
   "cell_type": "markdown",
   "metadata": {},
   "source": "# 🤖 Scikit-learn Types Explained\nScikit-learn is a Python library used to build machine learning models easily.\nIt includes tools for training models, cleaning data, splitting datasets, and evaluating performance."
  },
  {
   "cell_type": "markdown",
   "metadata": {},
   "source": "## 📘 1. Supervised Learning\nIn supervised learning, the model learns from **labeled data**.\nYou give both input and output during training.\n\n### 🔹 Types:\n- **Classification**: Output is a category or class.\n  - Example: Spam detection (Spam or Not Spam)\n  - Algorithms: `LogisticRegression`, `KNeighborsClassifier`, `RandomForestClassifier`\n\n- **Regression**: Output is a real-valued number.\n  - Example: Predicting marks based on hours studied\n  - Algorithms: `LinearRegression`, `Ridge`, `Lasso`"
  },
  {
   "cell_type": "markdown",
   "metadata": {},
   "source": "## 🌀 2. Unsupervised Learning\nIn unsupervised learning, the model finds patterns without labeled output.\n\n### 🔹 Types:\n- **Clustering**: Groups similar data together.\n  - Example: Segmenting customers\n  - Algorithms: `KMeans`, `DBSCAN`, `AgglomerativeClustering`\n\n- **Dimensionality Reduction**: Reduces number of features while keeping important information.\n  - Example: Visualizing high-dimensional data\n  - Algorithms: `PCA`, `TSNE`"
  },
  {
   "cell_type": "markdown",
   "metadata": {},
   "source": "## 🧼 3. Preprocessing\nPreprocessing prepares raw data to be suitable for machine learning.\n\n### 🔹 Common Tasks:\n- Handling missing values → `SimpleImputer`\n- Encoding categories → `LabelEncoder`, `OneHotEncoder`\n- Feature scaling → `StandardScaler`, `MinMaxScaler`\n\nThese tools are available in `sklearn.preprocessing`."
  },
  {
   "cell_type": "markdown",
   "metadata": {},
   "source": "## 🧪 4. Model Selection & Evaluation\nHelps to select the best model and test its accuracy.\n\n### 🔹 Model Selection:\n- `train_test_split()` – Split data into training and testing sets\n- `GridSearchCV`, `RandomizedSearchCV` – Tune model parameters\n\n### 🔹 Evaluation Metrics:\n- **Classification**:\n  - `accuracy_score`, `confusion_matrix`, `classification_report`\n- **Regression**:\n  - `mean_squared_error`, `r2_score`\n\nAll of these are part of `sklearn.model_selection` and `sklearn.metrics`."
  },
  {
   "cell_type": "markdown",
   "metadata": {},
   "source": "## ✅ Summary Table\n| Type | Description | Examples |\n|------|-------------|----------|\n| Supervised | Learn with labeled data | LinearRegression, LogisticRegression |\n| Unsupervised | Learn patterns from data | KMeans, PCA |\n| Preprocessing | Prepare data | Imputer, Scaler, Encoder |\n| Model Selection | Evaluate and tune models | train_test_split, GridSearchCV |"
  }
 ],
 "metadata": {
  "kernelspec": {
   "display_name": "Python 3",
   "language": "python",
   "name": "python3"
  },
  "language_info": {
   "name": "python",
   "version": "3.10"
  }
 },
 "nbformat": 4,
 "nbformat_minor": 5
}