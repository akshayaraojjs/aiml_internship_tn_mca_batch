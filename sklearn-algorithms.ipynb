{
    "cells": [
        {
            "cell_type": "markdown",
            "metadata": {},
            "source": "# 🤖 Scikit-learn: Overview & Common Algorithms\n**Scikit-learn** is a Python library used for machine learning. It provides tools for supervised and unsupervised learning, preprocessing, model selection, and evaluation.\n\nThis notebook covers:\n- What is Scikit-learn?\n- Types of tasks (classification, regression, etc.)\n- Preprocessing and pipelines\n- Commonly used algorithms and when to use them"
        },
        {
            "cell_type": "markdown",
            "metadata": {},
            "source": "## 📘 What is Scikit-learn?\nScikit-learn is an open-source machine learning library that simplifies building predictive models using:\n- **Classification**: Spam detection, disease diagnosis\n- **Regression**: Predicting sales, prices, temperature\n- **Clustering**: Grouping similar items\n- **Preprocessing**: Data cleaning and transformation\n- **Model Selection**: Evaluating and tuning models"
        },
        {
            "cell_type": "markdown",
            "metadata": {},
            "source": "## 🔍 Types of Learning\n### 1. Supervised Learning\n- **Classification**: Predict categories (e.g. Yes/No, Spam/Not Spam)\n- **Regression**: Predict continuous values (e.g. Price, Marks)\n\n### 2. Unsupervised Learning\n- **Clustering**: Group data without labels (e.g. customer segments)\n- **Dimensionality Reduction**: Reduce the number of features (e.g. PCA)\n\n### 3. Preprocessing & Evaluation\n- Handle missing values, encode labels, scale data\n- Evaluate using accuracy, mean squared error, cross-validation"
        },
        {
            "cell_type": "markdown",
            "metadata": {},
            "source": "## 🧠 Commonly Used Algorithms in Scikit-learn\n| Algorithm | Type | Use Case | Module |\n|----------|------|----------|--------|\n| LinearRegression | Regression | Predict sales, prices | linear_model |\n| LogisticRegression | Classification | Binary classification (pass/fail) | linear_model |\n| DecisionTreeClassifier | Classification | If-else like models | tree |\n| RandomForestClassifier | Classification | Ensemble of trees, more accurate | ensemble |\n| KNeighborsClassifier | Classification | Based on closest data points | neighbors |\n| KMeans | Clustering | Customer grouping | cluster |\n| PCA (Principal Component Analysis) | Dim. Reduction | Reduce features | decomposition |"
        },
        {
            "cell_type": "markdown",
            "metadata": {},
            "source": "## ✅ Simple Regression Example"
        },
        {
            "cell_type": "code",
            "execution_count": null,
            "metadata": {},
            "outputs": [],
            "source": "from sklearn.linear_model import LinearRegression\nfrom sklearn.model_selection import train_test_split\nfrom sklearn.metrics import mean_squared_error\n\n# Sample data: hours vs marks\nX = [[1], [2], [3], [4]]\ny = [10, 20, 30, 40]\n\nX_train, X_test, y_train, y_test = train_test_split(X, y, test_size=0.25)\n\nmodel = LinearRegression()\nmodel.fit(X_train, y_train)\npredictions = model.predict(X_test)\n\nprint(\"Predictions:\", predictions)\nprint(\"MSE:\", mean_squared_error(y_test, predictions))"
        },
        {
            "cell_type": "markdown",
            "metadata": {},
            "source": "## 📌 When to Use Which Algorithm\n| Task | Algorithm | When to Use |\n|------|-----------|-------------|\n| Binary Classification | LogisticRegression | Simple yes/no, spam detection |\n| Multiclass Classification | RandomForestClassifier | Multiple categories, robust |\n| Regression | LinearRegression | Predict numeric outcomes |\n| Clustering | KMeans | Grouping items with no labels |\n| Dimensionality Reduction | PCA | Too many features, want simplification |"
        }
    ],
    "metadata": {
        "kernelspec": {
            "display_name": "Python 3",
            "language": "python",
            "name": "python3"
        },
        "language_info": {
            "name": "python",
            "version": "3.10"
        }
    },
    "nbformat": 4,
    "nbformat_minor": 5
}