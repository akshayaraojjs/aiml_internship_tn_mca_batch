{
 "cells": [
  {
   "cell_type": "markdown",
   "id": "2ecb3957",
   "metadata": {},
   "source": [
    "# 📘 NumPy Basics for Machine Learning"
   ]
  },
  {
   "cell_type": "markdown",
   "id": "326809d8",
   "metadata": {},
   "source": [
    "\n",
    "**NumPy** stands for **Numerical Python** and is used for numerical computations, especially in machine learning and data science.\n",
    "It provides support for large, multi-dimensional arrays and matrices, along with a large collection of high-level mathematical functions.\n"
   ]
  },
  {
   "cell_type": "markdown",
   "id": "efa744e6",
   "metadata": {},
   "source": []
  },
  {
   "cell_type": "code",
   "execution_count": 1,
   "id": "fe831a8a",
   "metadata": {},
   "outputs": [],
   "source": [
    "import numpy as np"
   ]
  },
  {
   "cell_type": "markdown",
   "id": "700099a9",
   "metadata": {},
   "source": [
    "## 🛠️ Array Creation"
   ]
  },
  {
   "cell_type": "code",
   "execution_count": 16,
   "id": "2fa67aff",
   "metadata": {},
   "outputs": [
    {
     "name": "stdout",
     "output_type": "stream",
     "text": [
      "1D Array: [1 2 3]\n",
      "2D Array:\n",
      " [[1 2 3]\n",
      " [3 4 5]]\n"
     ]
    }
   ],
   "source": [
    "\n",
    "arr1 = np.array([1, 2, 3])\n",
    "arr2 = np.array([[1, 2, 3], [3, 4, 5]])\n",
    "\n",
    "print(\"1D Array:\", arr1)\n",
    "print(\"2D Array:\\n\", arr2)\n"
   ]
  },
  {
   "cell_type": "markdown",
   "id": "3b762ceb",
   "metadata": {},
   "source": [
    "## 🔍 Array Properties"
   ]
  },
  {
   "cell_type": "code",
   "execution_count": 17,
   "id": "3337ae19",
   "metadata": {},
   "outputs": [
    {
     "name": "stdout",
     "output_type": "stream",
     "text": [
      "Shape: (2, 3)\n",
      "Size: 6\n",
      "Dimensions: 2\n",
      "Data Type: int32\n"
     ]
    }
   ],
   "source": [
    "\n",
    "print(\"Shape:\", arr2.shape)\n",
    "print(\"Size:\", arr2.size)\n",
    "print(\"Dimensions:\", arr2.ndim)\n",
    "print(\"Data Type:\", arr2.dtype)\n"
   ]
  },
  {
   "cell_type": "markdown",
   "id": "51cd248c",
   "metadata": {},
   "source": [
    "## 🧱 Special Arrays"
   ]
  },
  {
   "cell_type": "code",
   "execution_count": null,
   "id": "6834f153",
   "metadata": {},
   "outputs": [
    {
     "name": "stdout",
     "output_type": "stream",
     "text": [
      "[[0. 0.]\n",
      " [0. 0.]]\n",
      "[[1. 1.]\n",
      " [1. 1.]\n",
      " [1. 1.]]\n",
      "[[1. 0. 0.]\n",
      " [0. 1. 0.]\n",
      " [0. 0. 1.]]\n",
      "[ 0  5 10 15]\n",
      "[0.   1.25 2.5  3.75 5.  ]\n"
     ]
    }
   ],
   "source": [
    "\n",
    "print(np.zeros((2, 2)))\n",
    "print(np.ones((3, 2)))\n",
    "print(np.eye(3))\n",
    "print(np.arange(0, 20, 5))\n",
    "print(np.linspace(0, 5, 5))  # division by equal parts\n"
   ]
  },
  {
   "cell_type": "markdown",
   "id": "5cb3503b",
   "metadata": {},
   "source": [
    "## ➕ Arithmetic Operations"
   ]
  },
  {
   "cell_type": "code",
   "execution_count": 5,
   "id": "05a80772",
   "metadata": {},
   "outputs": [
    {
     "name": "stdout",
     "output_type": "stream",
     "text": [
      "Add: [5 7 9]\n",
      "Subtract: [-3 -3 -3]\n",
      "Multiply: [ 4 10 18]\n",
      "Divide: [0.25 0.4  0.5 ]\n"
     ]
    }
   ],
   "source": [
    "\n",
    "a = np.array([1, 2, 3])\n",
    "b = np.array([4, 5, 6])\n",
    "\n",
    "print(\"Add:\", a + b)\n",
    "print(\"Subtract:\", a - b)\n",
    "print(\"Multiply:\", a * b)\n",
    "print(\"Divide:\", a / b)\n"
   ]
  },
  {
   "cell_type": "markdown",
   "id": "3fcbc58c",
   "metadata": {},
   "source": [
    "## 🔄 Reshape and Flatten"
   ]
  },
  {
   "cell_type": "code",
   "execution_count": 31,
   "id": "274b3f50",
   "metadata": {},
   "outputs": [
    {
     "name": "stdout",
     "output_type": "stream",
     "text": [
      "Reshape to 3x2:\n",
      " [[ 1  2  3  4  4  5]\n",
      " [ 6  7  7  8  9 10]]\n",
      "Flatten to 1D: [ 1  2  3  4  4  5  6  7  7  8  9 10]\n"
     ]
    }
   ],
   "source": [
    "\n",
    "arr = np.array([[1, 2, 3, 4], [4, 5, 6, 7], [7, 8, 9, 10]])\n",
    "print(\"Reshape to 3x2:\\n\", arr.reshape(2, 6))\n",
    "print(\"Flatten to 1D:\", arr.flatten())\n"
   ]
  },
  {
   "cell_type": "markdown",
   "id": "601804cb",
   "metadata": {},
   "source": [
    "## 🎯 Indexing and Slicing"
   ]
  },
  {
   "cell_type": "code",
   "execution_count": 36,
   "id": "11eb038f",
   "metadata": {},
   "outputs": [
    {
     "name": "stdout",
     "output_type": "stream",
     "text": [
      "First element: 20\n",
      "Last two elements: [40 50]\n",
      "Element at row 1, col 1: 1\n"
     ]
    }
   ],
   "source": [
    "\n",
    "arr = np.array([10, 20, 30, 40, 50])\n",
    "print(\"First element:\", arr[1])\n",
    "print(\"Last two elements:\", arr[-2:])\n",
    "\n",
    "# Array Index starts from 0\n",
    "matrix = np.array([[1, 2], [3, 4]])\n",
    "print(\"Element at row 1, col 1:\", matrix[0, 0])\n",
    " \n",
    "# 1 2 [a[0, 0] a[0, 1]]\n",
    "# 3 4 [a[1, 0], a[1, 1]]"
   ]
  },
  {
   "cell_type": "markdown",
   "id": "c431f283",
   "metadata": {},
   "source": [
    "## 📊 Statistical Functions"
   ]
  },
  {
   "cell_type": "code",
   "execution_count": 38,
   "id": "5f68b126",
   "metadata": {},
   "outputs": [
    {
     "name": "stdout",
     "output_type": "stream",
     "text": [
      "Sum: 100\n",
      "Mean: 25.0\n",
      "Median: 25.0\n",
      "Standard Deviation: 11.180339887498949\n"
     ]
    }
   ],
   "source": [
    "\n",
    "data = np.array([10, 20, 30, 40])\n",
    "\n",
    "print(\"Sum:\", np.sum(data))\n",
    "print(\"Mean:\", np.mean(data))\n",
    "print(\"Median:\", np.median(data))\n",
    "print(\"Standard Deviation:\", np.std(data))\n"
   ]
  },
  {
   "cell_type": "markdown",
   "id": "8891ba2c",
   "metadata": {},
   "source": [
    "## 🎲 Random Number Generation"
   ]
  },
  {
   "cell_type": "code",
   "execution_count": null,
   "id": "c3871f9c",
   "metadata": {},
   "outputs": [
    {
     "name": "stdout",
     "output_type": "stream",
     "text": [
      "Random 1D: [0.37454012 0.95071431 0.73199394 0.59865848 0.15601864 0.15599452\n",
      " 0.05808361 0.86617615 0.60111501 0.70807258]\n",
      "Random integers: [5523669 8404852 5981505]\n"
     ]
    }
   ],
   "source": [
    "\n",
    "print(\"Random 1D:\", np.random.rand(10))\n",
    "print(\"Random integers:\", np.random.randint(1000000, 9999999, 3))\n",
    "# Doubt\n",
    "np.random.seed(42)\n"
   ]
  },
  {
   "cell_type": "markdown",
   "id": "8c58a47d",
   "metadata": {},
   "source": [
    "## 🧮 Matrix Operations"
   ]
  },
  {
   "cell_type": "code",
   "execution_count": 10,
   "id": "222cfd54",
   "metadata": {},
   "outputs": [
    {
     "name": "stdout",
     "output_type": "stream",
     "text": [
      "Matrix multiplication:\n",
      " [[19 22]\n",
      " [43 50]]\n",
      "Transpose:\n",
      " [[1 3]\n",
      " [2 4]]\n",
      "Inverse:\n",
      " [[-2.   1. ]\n",
      " [ 1.5 -0.5]]\n"
     ]
    }
   ],
   "source": [
    "\n",
    "a = np.array([[1, 2], [3, 4]])\n",
    "b = np.array([[5, 6], [7, 8]])\n",
    "\n",
    "print(\"Matrix multiplication:\\n\", np.dot(a, b))\n",
    "print(\"Transpose:\\n\", a.T)\n",
    "print(\"Inverse:\\n\", np.linalg.inv(a))\n"
   ]
  }
 ],
 "metadata": {
  "kernelspec": {
   "display_name": "Python 3",
   "language": "python",
   "name": "python3"
  },
  "language_info": {
   "codemirror_mode": {
    "name": "ipython",
    "version": 3
   },
   "file_extension": ".py",
   "mimetype": "text/x-python",
   "name": "python",
   "nbconvert_exporter": "python",
   "pygments_lexer": "ipython3",
   "version": "3.12.4"
  }
 },
 "nbformat": 4,
 "nbformat_minor": 5
}
